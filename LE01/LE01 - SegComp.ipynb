{
 "cells": [
  {
   "cell_type": "markdown",
   "metadata": {},
   "source": [
    "# Lista de Exercícios 01"
   ]
  },
  {
   "cell_type": "markdown",
   "metadata": {},
   "source": [
    "## Quebrando Shift Cipher\n",
    "A cifra de César, ou Shift Cipher, é um dos métodos mais simples de criptografia. Ela funciona deslocando cada letra do texto original um certo número de posições no alfabeto. Por exemplo, com um deslocamento de 3, a letra A se torna D, B se torna E, e assim por diante.\n",
    "\n",
    "Neste trabalho, usamos a lógica modular para quebrar a cifra de César (Shift Cipher). O código leva em conta a diferença entre letras maiúsculas e minúsculas usando seus valores ASCII. A pontuação é mantida, mas caracteres especiais como é, ã e ç não são considerados. O código é explicado nos comentários abaixo.\n",
    "\n",
    "A complexidade do algoritmo é determinada pelo laço 4-26 que itera nos caracteres do texto fornecido, o que significa que a complexidade do algoritmo é *O(n)*, isto é, linear e depende do tamanho do texto de entrada."
   ]
  },
  {
   "cell_type": "code",
   "execution_count": null,
   "metadata": {},
   "outputs": [],
   "source": [
    "def shift_cipher(plain_text: str, k=3):\n",
    "    letters = []  # Lista para armazenar os caracteres cifrados\n",
    "\n",
    "    for c in plain_text:\n",
    "        letter_ascii = ord(c)  # Obtém o código ASCII do caractere\n",
    "\n",
    "        # Verifica se o caractere é uma letra maiúscula (A-Z)\n",
    "        if letter_ascii in range(65, 91):\n",
    "            offset = 65  # Offset para letras maiúsculas (A = 65)\n",
    "        # Verifica se o caractere é uma letra minúscula (a-z)\n",
    "        elif letter_ascii in range(97, 123):\n",
    "            offset = 97  # Offset para letras minúsculas (a = 97)\n",
    "        else:\n",
    "            offset = None  # Não é uma letra do alfabeto\n",
    "\n",
    "        # Se for uma letra do alfabeto, aplica o deslocamento\n",
    "        if offset is not None:\n",
    "            letter_code = (\n",
    "                letter_ascii - offset\n",
    "            )  # Converte o caractere para um valor de 0 a 25\n",
    "            shifted_letter = chr(\n",
    "                (letter_code + k) % 26 + offset\n",
    "            )  # Aplica o deslocamento e converte de volta para caractere\n",
    "            letters.append(shifted_letter)  # Adiciona o caractere cifrado à lista\n",
    "        else:  # Se não for letra, mantém o caractere original (pontuação, espaço etc.)\n",
    "            letters.append(c)\n",
    "\n",
    "    cipher_text = \"\".join(letters)  # Junta todos os caracteres cifrados em uma string\n",
    "    return cipher_text  # Retorna o texto cifrado\n",
    "\n",
    "\n",
    "# Exemplo de uso:\n",
    "plain_text_example = \"Duas coisas são infinitas: o universo e a estupidez humana. Mas, em relação ao universo, ainda não tenho certeza absoluta.\"\n",
    "shift_cipher(plain_text_example, 3)"
   ]
  },
  {
   "cell_type": "markdown",
   "metadata": {},
   "source": [
    "\n",
    "Para decifrar o texto, basta deslocarmos os caracteres de volta para o seu formato original. Para isso basta reutilizarmos o algoritmo de cifra original, mas dessa vez com o valor negativo da chave. Como a cifra usa uma lógica modular, também poderíamos deslocar as letras *26-key* para frente. Como ele utilizada a função de cifração, ambos possuem a mesma complexidade."
   ]
  },
  {
   "cell_type": "code",
   "execution_count": null,
   "metadata": {},
   "outputs": [],
   "source": [
    "def shift_decipher(cipher_text: str, k=3):\n",
    "    return shift_cipher(cipher_text,-k)\n",
    "\n",
    "cipher_text_example = \"Gxdv frlvdv vãr lqilqlwdv: r xqlyhuvr h d hvwxslghc kxpdqd. Pdv, hp uhodçãr dr xqlyhuvr, dlqgd qãr whqkr fhuwhcd devroxwd.\"\n",
    "shift_decipher(cipher_text_example, 3)"
   ]
  },
  {
   "cell_type": "markdown",
   "metadata": {},
   "source": [
    "### Quebra por força bruta"
   ]
  },
  {
   "cell_type": "markdown",
   "metadata": {},
   "source": [
    "Antes de abordar o algoritmo de quebra, primeiro vou explicar a função para saber se o algoritmo foi quebrado. Na database \"combinacoes.db\" utilizada anteriormente, existe a tabela \"palavras_comuns\" que contém uma lista de algumas palavras frequentes que podem aparecer nos textos em português brasileiro."
   ]
  },
  {
   "cell_type": "code",
   "execution_count": null,
   "metadata": {},
   "outputs": [],
   "source": [
    "import sqlite3\n",
    "\n",
    "def get_frequent_words():\n",
    "    db_path = \"combinacoes.db\"\n",
    "    conn = sqlite3.connect(db_path)\n",
    "    cursor = conn.cursor()\n",
    "\n",
    "    cursor.execute(\"SELECT palavra FROM palavras_comuns\")\n",
    "    \n",
    "    return [p[0] for p in cursor.fetchall()]\n",
    "\n",
    "#get_frequent_words()"
   ]
  },
  {
   "cell_type": "markdown",
   "metadata": {},
   "source": [
    "Criamos uma função rudimentar para checar se o resultado é em texto claro inteligível verificando se as palavras comuns aparecem pelo menos 3 vezes no texto fornecido."
   ]
  },
  {
   "cell_type": "code",
   "execution_count": null,
   "metadata": {},
   "outputs": [],
   "source": [
    "def not_gibberish(text: str):\n",
    "    common_words = get_frequent_words()\n",
    "    words = text.lower().split()\n",
    "    words_found = sum([common_words.count(word) for word in words])\n",
    "    return words_found > 3\n",
    "\n",
    "\n",
    "not_gibberish(\n",
    "    \"Sim, eu quero queijo. Como você sabia? Talvez você consiga ler mentes?!!\"\n",
    ")"
   ]
  },
  {
   "cell_type": "markdown",
   "metadata": {},
   "source": [
    "A quebra por força bruta é feita utilizando cada uma das 26 chaves possíveis para o shift cipher, o que faz com que o algoritmo possua uma complexidade computacional constante minúscula. Para cada chave, tentamos decifrar o texto e verificar se o resultado é inteligível. "
   ]
  },
  {
   "cell_type": "code",
   "execution_count": null,
   "metadata": {},
   "outputs": [],
   "source": [
    "def break_shift_cipher_v1(cipher_text: str):\n",
    "    for k in range(1,26):\n",
    "        plain_text = shift_decipher(cipher_text,k)\n",
    "        if not_gibberish(plain_text):\n",
    "            return k\n",
    "    return None\n",
    "\n",
    "\n",
    "break_shift_cipher_v1(cipher_text_example)"
   ]
  },
  {
   "cell_type": "markdown",
   "metadata": {},
   "source": [
    "### Quebra por distribuição frequência"
   ]
  },
  {
   "cell_type": "markdown",
   "metadata": {},
   "source": [
    "Primeiro, precisamos obter a distribuição das frequências fornecidas. Os dados foram armazenados em uma database e são acessados utilizando a função *get_letter_frequency()*"
   ]
  },
  {
   "cell_type": "code",
   "execution_count": null,
   "metadata": {},
   "outputs": [],
   "source": [
    "def get_letter_frequency():\n",
    "    db_path = \"combinacoes.db\"\n",
    "    conn = sqlite3.connect(db_path)\n",
    "    cursor = conn.cursor()\n",
    "\n",
    "    cursor.execute(\n",
    "        \"SELECT combinacao, porcentagem FROM combinacoes ORDER BY porcentagem DESC\"\n",
    "    )\n",
    "\n",
    "    # Criar dicionários separados por tamanho da chave\n",
    "    freq_1 = {}  # Para combinações de 1 letra\n",
    "    freq_2 = {}  # Para combinações de 2 letras\n",
    "    freq_3 = {}  # Para combinações de 3 letras\n",
    "\n",
    "    # Separar os dados nos dicionários apropriados\n",
    "    for combinacao, porcentagem in cursor.fetchall():\n",
    "        if len(combinacao) == 1:\n",
    "            freq_1[combinacao] = porcentagem\n",
    "        elif len(combinacao) == 2:\n",
    "            freq_2[combinacao] = porcentagem\n",
    "        elif len(combinacao) == 3:\n",
    "            freq_3[combinacao] = porcentagem\n",
    "\n",
    "    conn.close()\n",
    "\n",
    "    return freq_1, freq_2, freq_3  # Retorna os três dicionários separados"
   ]
  },
  {
   "cell_type": "markdown",
   "metadata": {},
   "source": [
    "A função find_best_matches compara as letras ou combinações de letras da cifra com uma base de dados, utilizando as frequências de ocorrência. Dessa forma, tenta encontrar a melhor correspondência entre o texto cifrado e as letras mais comuns da língua, ajudando a decifrar a mensagem."
   ]
  },
  {
   "cell_type": "code",
   "execution_count": null,
   "metadata": {},
   "outputs": [],
   "source": [
    "def find_best_matches(cipher_letter_frequency):\n",
    "    freq_1, freq_2, freq_3 = get_letter_frequency()\n",
    "    cfreq_1, cfreq_2, cfreq_3 = {}, {}, {}\n",
    "\n",
    "    # Ordena as frequências do texto cifrado do maior para o menor\n",
    "    cipher_letter_frequency_ordered = dict(\n",
    "        sorted(cipher_letter_frequency.items(), key=lambda item: item[1], reverse=True)\n",
    "    )\n",
    "\n",
    "    for combinacao, porcentagem in cipher_letter_frequency_ordered.items():\n",
    "        if len(combinacao) == 1:\n",
    "            cfreq_1[combinacao] = porcentagem\n",
    "        elif len(combinacao) == 2:\n",
    "            cfreq_2[combinacao] = porcentagem\n",
    "        elif len(combinacao) == 3:\n",
    "            cfreq_3[combinacao] = porcentagem\n",
    "\n",
    "    matches = {}\n",
    "    matches.update(dict(zip(cfreq_1, freq_1)))\n",
    "    matches.update(dict(zip(cfreq_2, freq_2)))\n",
    "    matches.update(dict(zip(cfreq_3, freq_3)))\n",
    "\n",
    "    return matches"
   ]
  },
  {
   "cell_type": "markdown",
   "metadata": {},
   "source": [
    "O código tenta descobrir qual foi o número de posições usado para cifrar uma mensagem com a cifra de César. Para isso, ele analisa a frequência de letras, pares e trios de letras no texto cifrado e compara com uma base de dados. Quando encontra um resultado que faz sentido, ele retorna o texto decifrado. O processo é mais lento porque testa muitas combinações de letras. A complexidade desse algoritmo é determinada pelo método *count* da linha 22, que tem  complexidade linear O(n)."
   ]
  },
  {
   "cell_type": "code",
   "execution_count": null,
   "metadata": {},
   "outputs": [],
   "source": [
    "import itertools\n",
    "\n",
    "\n",
    "def break_shift_cipher_v2(cipher_text: str):\n",
    "    # Cria uma lista com todas as letras minúsculas do alfabeto\n",
    "    alphabet = [chr(i) for i in range(ord(\"a\"), ord(\"z\") + 1)]\n",
    "\n",
    "    # Gera todas as combinações possíveis de 2 letras (digraphs), como 'aa', 'ab', ..., 'zz'\n",
    "    digraphs = [\"\".join(pair) for pair in itertools.product(alphabet, repeat=2)]\n",
    "\n",
    "    # Gera todas as combinações possíveis de 3 letras (trigraphs), como 'aaa', 'aab', ..., 'zzz'\n",
    "    trigraphs = [\"\".join(triplet) for triplet in itertools.product(alphabet, repeat=3)]\n",
    "\n",
    "    # Conta quantas letras (apenas letras) existem no texto cifrado\n",
    "    total_letters = sum(1 for c in cipher_text if c.isalpha())\n",
    "\n",
    "    # Dicionário para armazenar a frequência de cada letra ou combinação de letras\n",
    "    cipher_letter_frequency = {}\n",
    "    for letter_combination in alphabet + digraphs + trigraphs:\n",
    "        # Calcula a frequência relativa de cada combinação no texto\n",
    "        cipher_letter_frequency[letter_combination] = round(\n",
    "            cipher_text.count(letter_combination) / total_letters, 2\n",
    "        )\n",
    "\n",
    "    # Usa as frequências calculadas para tentar encontrar as melhores correspondências\n",
    "    # com uma base de dados de frequências da língua (função externa)\n",
    "    matches = find_best_matches(cipher_letter_frequency)\n",
    "\n",
    "    # Para cada par encontrado (caractere da cifra e seu possível correspondente real)\n",
    "    for k, v in matches.items():\n",
    "        # Calcula o deslocamento (diferença entre os caracteres)\n",
    "        key = abs(ord(k) - ord(v))\n",
    "\n",
    "        # Tenta decifrar o texto com a chave calculada\n",
    "        clear_text = shift_decipher(cipher_text, key)\n",
    "\n",
    "        # Verifica se o texto decifrado faz sentido (função externa)\n",
    "        if not_gibberish(clear_text):\n",
    "            return clear_text  # Se for legível, retorna o texto\n",
    "\n",
    "    return None \n",
    "\n",
    "\n",
    "# Exemplo de uso\n",
    "break_shift_cipher_v2(cipher_text_example)"
   ]
  },
  {
   "cell_type": "markdown",
   "metadata": {},
   "source": [
    "## Quebrando Cifra por Transposição"
   ]
  },
  {
   "cell_type": "markdown",
   "metadata": {},
   "source": [
    "Essa função implementa a cifra de transposição em colunas (columnar transposition cipher), um método de criptografia que reorganiza as letras do texto original com base em uma chave. Primeiro, o texto é distribuído em 5 colunas, uma letra por vez em ordem. Depois, as colunas são embaralhadas conforme a ordem alfabética da chave fornecida. Por fim, o texto cifrado é montado lendo as letras coluna por coluna na nova ordem. Esse método não altera as letras, apenas muda suas posições. Esse algoritmo possui complexidade O(n), onde n é o tamanho do texto de entrada.\n",
    "\n",
    "Como eu tenho *n* colunas que são organizadas conforme a ordem das letras da palavra, temos apenas *n!* possibilidades de chave que podem ser utilizadas.\n",
    "Por exemplo, usamos \"cargo\" para codificar a mensagem anterior, o que no algoritmo atribui os valores \"21534\" para embaralhar as colunas, o qual também pode ser obtido pela chave \"baecd\". \n",
    "\n",
    "Logo, só é necessário achar uma permutação de \"abcde\" que gere a sequência de ordenação correta para encontrarmos uma chave de decriptação válida. Supondo que a chave tenha um tamanho variável e possa utilizar somente letras minúsculas, teremos *26! + 25! + ... + 2! + 1!* possibilidades de chaves possíveis."
   ]
  },
  {
   "cell_type": "code",
   "execution_count": null,
   "metadata": {},
   "outputs": [],
   "source": [
    "def columnar_transposition_cipher(plain_text: str, key: str):\n",
    "    # Cria 5 colunas vazias para organizar o texto\n",
    "    columns = [[] for _ in range(5)]\n",
    "\n",
    "    # Ordena a chave alfabeticamente e cria uma ordem numérica para as colunas\n",
    "    key_order = key\n",
    "    for c, i in zip(list(sorted(key)), range(5)):\n",
    "        # Substitui cada letra da chave por seu número na ordem alfabética (1 a 5)\n",
    "        key_order = key_order.replace(c, str(i + 1))\n",
    "\n",
    "    # Distribui o texto nas colunas: cada letra vai para uma coluna alternadamente\n",
    "    for i in range(len(plain_text)):\n",
    "        columns[i % 5].append(plain_text[i])\n",
    "\n",
    "    # Reorganiza as colunas de acordo com a ordem definida pela chave\n",
    "    shuffled_columns = []\n",
    "    for n in list(map(int, key_order)):\n",
    "        shuffled_columns.append(columns[n - 1])\n",
    "\n",
    "    # Lê as letras das colunas embaralhadas para formar o texto cifrado\n",
    "    shuffled_letters = []\n",
    "    for i in range(len(plain_text)):\n",
    "        shuffled_letters.append(shuffled_columns[i % 5][i // 5])\n",
    "\n",
    "    # Junta todas as letras para formar o texto cifrado final\n",
    "    cipher_text = \"\".join(shuffled_letters)\n",
    "    return cipher_text\n",
    "\n",
    "\n",
    "# Exemplo de uso com uma chave de 5 letras\n",
    "columnar_transposition_cipher(plain_text_example, \"cargo\")"
   ]
  },
  {
   "cell_type": "markdown",
   "metadata": {},
   "source": [
    "A função *columnar_transposition_decipher* usa a mesma chave que foi usada para cifrar. Primeiro, ela separa o texto em colunas embaralhadas, depois reorganiza essas colunas de volta à ordem original. Por fim, ela monta o texto original juntando as letras na ordem certa."
   ]
  },
  {
   "cell_type": "code",
   "execution_count": null,
   "metadata": {},
   "outputs": [],
   "source": [
    "def columnar_transposition_decipher(cipher_text: str, key: str):\n",
    "    # Cria 5 colunas vazias para reorganizar o texto\n",
    "    columns = [[] for _ in range(5)]\n",
    "\n",
    "    # Cria a ordem numérica da chave com base na ordem alfabética das letras\n",
    "    key_order = key\n",
    "    for c, i in zip(list(sorted(key)), range(len(key))):\n",
    "        # Substitui cada letra da chave por um número de 1 a 5, conforme a ordem alfabética\n",
    "        key_order = key_order.replace(c, str(i + 1))\n",
    "\n",
    "    # Distribui as letras do texto cifrado nas colunas (como se fossem embaralhadas)\n",
    "    for i in range(len(cipher_text)):\n",
    "        columns[i % 5].append(cipher_text[i])\n",
    "\n",
    "    # Reorganiza as colunas de volta à ordem original, com base na posição na chave\n",
    "    unshuffled_columns = []\n",
    "    for i in range(1, 6):  # de 1 a 5\n",
    "        # Encontra o índice original da coluna com base no número da chave\n",
    "        unshuffled_columns.append(columns[key_order.index(str(i))])\n",
    "\n",
    "    # Reconstrói o texto original lendo as letras na ordem correta\n",
    "    unshuffled_letters = []\n",
    "    for i in range(len(cipher_text)):\n",
    "        unshuffled_letters.append(unshuffled_columns[i % 5][i // 5])\n",
    "\n",
    "    # Junta todas as letras para formar o texto decifrado\n",
    "    cipher_text = \"\".join(unshuffled_letters)\n",
    "    return cipher_text\n",
    "\n",
    "\n",
    "# Exemplo de uso da função\n",
    "cipher_text_example2 = \"uD asocais sosãi infinsta :uo inrveos  e atespueid zmhuna a.aM s,mee raloçãa uo inrveosa, ni daãnto ne hoecertazb aostlu.aeqw\"\n",
    "columnar_transposition_decipher(cipher_text_example2, \"cargo\")"
   ]
  },
  {
   "cell_type": "markdown",
   "metadata": {},
   "source": [
    "### Quebra por força bruta"
   ]
  },
  {
   "cell_type": "markdown",
   "metadata": {},
   "source": [
    "O algoritmo de quebra por força bruta é relativamente simples, ele itera nas combinações não repetidas de \"abcde\" (supondo que eu sei que a chave tem tamanho fixo 5), e tenta decifrar o texto e verificar se ele é legível. Obviamente uma das fraquezas da cifra é que, como dito anteriormente, podemos ter inúmeras chaves que geram a mesma ordem de embaralhamento.\n",
    "\n",
    "Isso significa que apesar dessa cifra por transposição ser extremamente simples de implementar, ela é rudimentar. Se a chave utilizada for muito simples ou tiver poucas letras e variações de caracteres é possível quebrá-la rapidamente pelo método de força bruta.\n"
   ]
  },
  {
   "cell_type": "code",
   "execution_count": null,
   "metadata": {},
   "outputs": [],
   "source": [
    "# Quebra uma cifra de transposição columnar tentando todas as permutações possíveis de uma chave conhecida,\n",
    "# e retorna a chave que decifra o texto para algo compreensível.\n",
    "\n",
    "\n",
    "def break_columnar_transposition_cipher_v1(cipher_text: str):\n",
    "    key_combinations = [\"\".join(p) for p in itertools.permutations(\"abcde\")]\n",
    "    for key in key_combinations:\n",
    "        plain_text = columnar_transposition_decipher(cipher_text, key)\n",
    "        if not_gibberish(plain_text):\n",
    "            return key\n",
    "    return None\n",
    "\n",
    "\n",
    "break_columnar_transposition_cipher_v1(cipher_text_example2)"
   ]
  },
  {
   "cell_type": "markdown",
   "metadata": {},
   "source": [
    "### Quebra por distribuição frequência\n",
    "Como a chave é uma palavra comum, sem repetição de letras, podemos usar uma lista com a frequência das palavras mais usadas que atendem a esses critérios. Para isso, seria ideal criar um contador de palavras, alimentado com exemplos de textos, para construir uma base de dados com a distribuição desejada. Porém, como o foco deste exercício é a lógica do algoritmo, utilizei um conjunto de dados fictício (dummy data) para a quebra.\n",
    "\n",
    "Além disso, precisamos conhecer o tamanho da chave para gerar as permutações necessárias. Supondo que a chave seja composta apenas por letras (maiúsculas e minúsculas) e números, temos um total de *62! + 61! + ... + 1!* chaves possíveis, o que resulta em um número ENORME. Esse conceito pode ser comparado com senhas de usuários que são consideradas inseguras, como aquelas que utilizam palavras comuns ou sequências de números simples como '123' ou 'abc', o que reduz significativamente o espaço de busca.\n",
    "\n",
    "Embora seja possível realizar uma análise de frequência das letras presente na cifra, não podemos utilizar essa informação para desembaralhar as letras diretamente. Por isso, podemos analisar a probabilidade/frequência com que determinadas chaves são utilizadas. \n",
    "\n",
    "No caso em que o tamanho da chave é variável utilizar a segunda tática de quebra é muito mais viável por conta da quantidade gigantesca de tentativas que seria necessári para quebra com força bruta. Supondo que a chave inclua diversos caracteres, seria necessário outras técnicas de quebra de senhas comuns."
   ]
  },
  {
   "cell_type": "code",
   "execution_count": null,
   "metadata": {},
   "outputs": [],
   "source": [
    "word_frequency = {\n",
    "    \"bravo\": 0.045,\n",
    "    \"cargo\": 0.082,\n",
    "    \"claro\": 0.047,\n",
    "    \"custo\": 0.058,\n",
    "    \"grato\": 0.052,\n",
    "    \"limpo\": 0.061,\n",
    "    \"lenta\": 0.076,\n",
    "    \"poder\": 0.065,\n",
    "    \"tempo\": 0.054,\n",
    "    \"troca\": 0.049,\n",
    "}\n",
    "\n",
    "# Quebra uma cifra de transposição columnar testando palavras comuns ordenadas por frequência,\n",
    "# tentando primeiro as mais prováveis como chave de decifração.\n",
    "\n",
    "def break_columnar_transposition_cipher_v2(cipher_text: str):\n",
    "    word_frequency_ordered = dict(\n",
    "        sorted(word_frequency.items(), key=lambda item: item[1], reverse=True)\n",
    "    )\n",
    "    \n",
    "    for word in word_frequency_ordered:\n",
    "        plain_text = columnar_transposition_decipher(cipher_text, word)\n",
    "        if not_gibberish(plain_text):\n",
    "            return word\n",
    "    return None\n",
    "\n",
    "\n",
    "break_columnar_transposition_cipher_v2(cipher_text_example2)"
   ]
  }
 ],
 "metadata": {
  "kernelspec": {
   "display_name": "Python 3",
   "language": "python",
   "name": "python3"
  },
  "language_info": {
   "codemirror_mode": {
    "name": "ipython",
    "version": 3
   },
   "file_extension": ".py",
   "mimetype": "text/x-python",
   "name": "python",
   "nbconvert_exporter": "python",
   "pygments_lexer": "ipython3",
   "version": "3.12.3"
  }
 },
 "nbformat": 4,
 "nbformat_minor": 2
}
