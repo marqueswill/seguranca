{
 "cells": [
  {
   "cell_type": "markdown",
   "id": "29b41147",
   "metadata": {},
   "source": [
    "O que é o DES?\n",
    "Contextualizar\n",
    "Comparar com a cifra de Feistel\n",
    "Falar sobre confusão e difusão\n",
    "Explicar como ele funciona (black box)"
   ]
  },
  {
   "cell_type": "code",
   "execution_count": null,
   "id": "8b64b47d",
   "metadata": {},
   "outputs": [],
   "source": [
    "from typing import List\n",
    "\n",
    "\n",
    "def feistel_encrypt(plaintext: int, key: int) -> int:\n",
    "    pass\n",
    "\n",
    "\n",
    "def permutate_bits(bits: int) -> int:\n",
    "    pass\n",
    "\n",
    "\n",
    "def generate_subkeys(key: int) -> List[int]:\n",
    "    pass\n",
    "\n",
    "\n",
    "def left_circular_shift(bits: int) -> int:\n",
    "    pass"
   ]
  },
  {
   "cell_type": "code",
   "execution_count": null,
   "id": "0de8dfdf",
   "metadata": {},
   "outputs": [],
   "source": [
    "def des_encryption(plaintext: int, key: int) -> int:\n",
    "    ciphertext1 = permutate_bits(plaintext)\n",
    "    ciphertext2 = feistel_encrypt(ciphertext1, key)\n",
    "    ciphertext3 = permutate_bits(ciphertext2)\n",
    "\n",
    "    return ciphertext3"
   ]
  },
  {
   "cell_type": "code",
   "execution_count": null,
   "id": "49b48e1b",
   "metadata": {},
   "outputs": [],
   "source": [
    "def test_des():\n",
    "    example_plaintext = 0x02468ACEECA86420\n",
    "    example_key = 0x0F1571C947D9E859\n",
    "    expected_ciphertext = 0xDA02CE3A89ECAC3B\n",
    "\n",
    "    generated_ciphertext = des_encryption(example_plaintext, example_key)\n",
    "\n",
    "    print(expected_ciphertext == generated_ciphertext)"
   ]
  }
 ],
 "metadata": {
  "kernelspec": {
   "display_name": "Python 3",
   "language": "python",
   "name": "python3"
  },
  "language_info": {
   "codemirror_mode": {
    "name": "ipython",
    "version": 3
   },
   "file_extension": ".py",
   "mimetype": "text/x-python",
   "name": "python",
   "nbconvert_exporter": "python",
   "pygments_lexer": "ipython3",
   "version": "3.13.0"
  }
 },
 "nbformat": 4,
 "nbformat_minor": 5
}
