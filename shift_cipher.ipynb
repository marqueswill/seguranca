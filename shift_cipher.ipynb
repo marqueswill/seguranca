{
 "cells": [
  {
   "cell_type": "markdown",
   "metadata": {},
   "source": [
    "1. Elaborar  os  códigos  para  realizar  a  cifra  por  deslocamento  e  a  respectiva \n",
    "decifração (dica: validar para cifra de César onde k=3); \n",
    "\n",
    "2. Elaborar  os  códigos  que  quebram  a  cifra  por  deslocamento,  através  de  duas \n",
    "estratégias de ataques à cifra (CipherText-only): \n",
    "    - por ataque de força bruta; \n",
    "    - por distribuição de frequência; \n",
    "\n",
    "3. Descrever a viabilidade das estratégias, comparar a complexidade dos algoritmos e \n",
    "tempo de execução, onde cada técnica seria melhor aplicada etc."
   ]
  }
 ],
 "metadata": {
  "language_info": {
   "name": "python"
  }
 },
 "nbformat": 4,
 "nbformat_minor": 2
}
