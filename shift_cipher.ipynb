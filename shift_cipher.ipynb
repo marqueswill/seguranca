{
 "cells": [
  {
   "cell_type": "markdown",
   "metadata": {},
   "source": [
    "# Lista de Exercícios 01"
   ]
  },
  {
   "cell_type": "markdown",
   "metadata": {},
   "source": [
    "## Quebrando Shift Cipher\n",
    "\n",
    "Utilização da lógica modular\n",
    "\n",
    "Considera a diferença de código ASCII dos caracteres maiúsculos e minúsculos\n",
    "\n",
    "Mantém a pontuação, mas não considera caracteres especiais (é,ã,Ç, etc.)"
   ]
  },
  {
   "cell_type": "code",
   "execution_count": 83,
   "metadata": {},
   "outputs": [
    {
     "data": {
      "text/plain": [
       "'Gxdv frlvdv vãr lqilqlwdv: r xqlyhuvr h d hvwxslghc kxpdqd. Pdv, hp uhodçãr dr xqlyhuvr, dlqgd qãr whqkr fhuwhcd devroxwd.'"
      ]
     },
     "execution_count": 83,
     "metadata": {},
     "output_type": "execute_result"
    }
   ],
   "source": [
    "def shift_cipher(plain_text: str, k=3):\n",
    "    letters = []\n",
    "    for c in plain_text:\n",
    "        letter_ascii = ord(c)\n",
    "        if letter_ascii in range(65, 91):\n",
    "            offset = 65\n",
    "\n",
    "        if letter_ascii in range(95, 123):\n",
    "            offset = 97\n",
    "\n",
    "        letter_code = letter_ascii - offset\n",
    "        if letter_code in range(26):\n",
    "            shifted_letter = chr((letter_code + k) % 26 + offset)\n",
    "            letters.append(shifted_letter)\n",
    "\n",
    "        else:\n",
    "            letters.append(c)\n",
    "\n",
    "    cipher_text = \"\".join(letters)\n",
    "    return cipher_text\n",
    "\n",
    "\n",
    "plain_text_example = \"Duas coisas são infinitas: o universo e a estupidez humana. Mas, em relação ao universo, ainda não tenho certeza absoluta.\"\n",
    "shift_cipher(plain_text_example, 3)"
   ]
  },
  {
   "cell_type": "markdown",
   "metadata": {},
   "source": [
    "Reutiliza o algoritmo de cifra, mas com o negativo da chave\n",
    "Desloca de volta"
   ]
  },
  {
   "cell_type": "code",
   "execution_count": 84,
   "metadata": {},
   "outputs": [
    {
     "data": {
      "text/plain": [
       "'Duas coisas são infinitas: o universo e a estupidez humana. Mas, em relação ao universo, ainda não tenho certeza absoluta.'"
      ]
     },
     "execution_count": 84,
     "metadata": {},
     "output_type": "execute_result"
    }
   ],
   "source": [
    "def shift_decipher(cipher_text: str, k=3):\n",
    "    plain_text = shift_cipher(cipher_text,-k)\n",
    "    return plain_text\n",
    "\n",
    "cipher_text_example = \"Tkqi seyiqi iãe ydvydyjqi: e kdyluhie u q uijkfytup xkcqdq. Cqi, uc hubqçãe qe kdyluhie, qydtq dãe judxe suhjupq qriebkjq.\"\n",
    "shift_decipher(cipher_text_example, 16)"
   ]
  },
  {
   "cell_type": "markdown",
   "metadata": {},
   "source": [
    "### Quebra por força bruta"
   ]
  },
  {
   "cell_type": "code",
   "execution_count": 85,
   "metadata": {},
   "outputs": [
    {
     "data": {
      "text/plain": [
       "['o',\n",
       " 'a',\n",
       " 'e',\n",
       " 'de',\n",
       " 'que',\n",
       " 'do',\n",
       " 'da',\n",
       " 'em',\n",
       " 'um',\n",
       " 'para',\n",
       " 'com',\n",
       " 'não',\n",
       " 'uma',\n",
       " 'os',\n",
       " 'no',\n",
       " 'se',\n",
       " 'na',\n",
       " 'por',\n",
       " 'mais',\n",
       " 'as',\n",
       " 'dos',\n",
       " 'como',\n",
       " 'mas',\n",
       " 'ao',\n",
       " 'ele',\n",
       " 'das',\n",
       " 'à',\n",
       " 'seu',\n",
       " 'sua',\n",
       " 'ou',\n",
       " 'quando',\n",
       " 'muito',\n",
       " 'já',\n",
       " 'eu',\n",
       " 'também',\n",
       " 'só',\n",
       " 'pelo',\n",
       " 'pela',\n",
       " 'até',\n",
       " 'isso',\n",
       " 'entre',\n",
       " 'era',\n",
       " 'depois',\n",
       " 'sem',\n",
       " 'mesmo',\n",
       " 'aos',\n",
       " 'seus',\n",
       " 'quem',\n",
       " 'nas',\n",
       " 'esse',\n",
       " 'está',\n",
       " 'estão',\n",
       " 'ser',\n",
       " 'tem',\n",
       " 'foi',\n",
       " 'ter',\n",
       " 'me',\n",
       " 'há',\n",
       " 'nos',\n",
       " 'meu',\n",
       " 'minha',\n",
       " 'bem',\n",
       " 'tudo',\n",
       " 'você',\n",
       " 'talvez']"
      ]
     },
     "execution_count": 85,
     "metadata": {},
     "output_type": "execute_result"
    }
   ],
   "source": [
    "import sqlite3\n",
    "\n",
    "\n",
    "def get_frequent_words():\n",
    "    db_path = \"combinacoes.db\"\n",
    "    conn = sqlite3.connect(db_path)\n",
    "    cursor = conn.cursor()\n",
    "\n",
    "    cursor.execute(\"SELECT palavra FROM palavras_comuns\")\n",
    "    \n",
    "    return [p[0] for p in cursor.fetchall()]\n",
    "\n",
    "get_frequent_words()"
   ]
  },
  {
   "cell_type": "markdown",
   "metadata": {},
   "source": [
    "Função rudimentar para checar se o resultado é em texto claro inteligível"
   ]
  },
  {
   "cell_type": "code",
   "execution_count": 86,
   "metadata": {},
   "outputs": [
    {
     "data": {
      "text/plain": [
       "True"
      ]
     },
     "execution_count": 86,
     "metadata": {},
     "output_type": "execute_result"
    }
   ],
   "source": [
    "def not_gibberish(text):\n",
    "    common_words = get_frequent_words()\n",
    "    words = text.lower().split()\n",
    "\n",
    "    words_found = sum([common_words.count(word) for word in words])\n",
    "    \n",
    "    return words_found > 3\n",
    "\n",
    "\n",
    "not_gibberish(\n",
    "    \"Sim, eu quero queijo. Como você sabia? Talvez você consiga ler mentes?!!\"\n",
    ")"
   ]
  },
  {
   "cell_type": "code",
   "execution_count": 87,
   "metadata": {},
   "outputs": [
    {
     "data": {
      "text/plain": [
       "16"
      ]
     },
     "execution_count": 87,
     "metadata": {},
     "output_type": "execute_result"
    }
   ],
   "source": [
    "def break_shift_cipher_v1(cipher_text: str):\n",
    "    for k in range(1,26):\n",
    "        plain_text = shift_decipher(cipher_text,k)\n",
    "        if not_gibberish(plain_text):\n",
    "            return k\n",
    "    return None\n",
    "\n",
    "\n",
    "break_shift_cipher_v1(cipher_text_example)"
   ]
  },
  {
   "cell_type": "markdown",
   "metadata": {},
   "source": [
    "### Quebra por distribuição frequência"
   ]
  },
  {
   "cell_type": "code",
   "execution_count": 88,
   "metadata": {},
   "outputs": [],
   "source": [
    "def get_letter_frequency():\n",
    "    db_path = \"combinacoes.db\"\n",
    "    conn = sqlite3.connect(db_path)\n",
    "    cursor = conn.cursor()\n",
    "\n",
    "    cursor.execute(\n",
    "        \"SELECT combinacao, porcentagem FROM combinacoes ORDER BY porcentagem DESC\"\n",
    "    )\n",
    "\n",
    "    # Criar dicionários separados por tamanho da chave\n",
    "    freq_1 = {}  # Para combinações de 1 letra\n",
    "    freq_2 = {}  # Para combinações de 2 letras\n",
    "    freq_3 = {}  # Para combinações de 3 letras\n",
    "\n",
    "    # Separar os dados nos dicionários apropriados\n",
    "    for combinacao, porcentagem in cursor.fetchall():\n",
    "        if len(combinacao) == 1:\n",
    "            freq_1[combinacao] = porcentagem\n",
    "        elif len(combinacao) == 2:\n",
    "            freq_2[combinacao] = porcentagem\n",
    "        elif len(combinacao) == 3:\n",
    "            freq_3[combinacao] = porcentagem\n",
    "\n",
    "    conn.close()\n",
    "\n",
    "    return freq_1, freq_2, freq_3  # Retorna os três dicionários separados\n",
    "\n"
   ]
  },
  {
   "cell_type": "code",
   "execution_count": 89,
   "metadata": {},
   "outputs": [],
   "source": [
    "def find_best_matches(cipher_letter_frequency):\n",
    "    freq_1, freq_2, freq_3 = get_letter_frequency()\n",
    "    cfreq_1, cfreq_2, cfreq_3 = {}, {}, {}\n",
    "\n",
    "    # Ordena as frequências do texto cifrado do maior para o menor\n",
    "    cipher_letter_frequency_ordered = dict(\n",
    "        sorted(cipher_letter_frequency.items(), key=lambda item: item[1], reverse=True)\n",
    "    )\n",
    "\n",
    "    for combinacao, porcentagem in cipher_letter_frequency_ordered.items():\n",
    "        if len(combinacao) == 1:\n",
    "            cfreq_1[combinacao] = porcentagem\n",
    "        elif len(combinacao) == 2:\n",
    "            cfreq_2[combinacao] = porcentagem\n",
    "        elif len(combinacao) == 3:\n",
    "            cfreq_3[combinacao] = porcentagem\n",
    "\n",
    "    matches = {}\n",
    "    matches.update(dict(zip(cfreq_1, freq_1)))\n",
    "    matches.update(dict(zip(cfreq_2, freq_2)))\n",
    "    matches.update(dict(zip(cfreq_3, freq_3)))\n",
    "\n",
    "    return matches"
   ]
  },
  {
   "cell_type": "code",
   "execution_count": 90,
   "metadata": {},
   "outputs": [
    {
     "data": {
      "text/plain": [
       "'Duas coisas são infinitas: o universo e a estupidez humana. Mas, em relação ao universo, ainda não tenho certeza absoluta.'"
      ]
     },
     "execution_count": 90,
     "metadata": {},
     "output_type": "execute_result"
    }
   ],
   "source": [
    "import itertools\n",
    "\n",
    "def break_shift_cipher_v2(cipher_text: str):\n",
    "    alphabet = [chr(i) for i in range(ord(\"a\"), ord(\"z\") + 1)]\n",
    "    digraphs = [\"\".join(pair) for pair in itertools.product(alphabet, repeat=2)]\n",
    "    trigraphs = [\"\".join(triplet) for triplet in itertools.product(alphabet, repeat=3)]\n",
    "\n",
    "    total_letters = sum(1 for c in cipher_text if c.isalpha())\n",
    "\n",
    "    cipher_letter_frequency = {}\n",
    "    for letter in alphabet + digraphs + trigraphs:\n",
    "        cipher_letter_frequency[letter] = round(\n",
    "            cipher_text.count(letter) / total_letters, 2\n",
    "        )\n",
    "    \n",
    "    matches = find_best_matches(cipher_letter_frequency)\n",
    "\n",
    "    for k, v in matches.items():\n",
    "        key = abs(ord(k) - ord(v))\n",
    "        clear_text = shift_decipher(cipher_text, key)\n",
    "        if not_gibberish(clear_text):\n",
    "            break\n",
    "\n",
    "    return shift_decipher(cipher_text, key)\n",
    "\n",
    "\n",
    "break_shift_cipher_v2(cipher_text_example)"
   ]
  },
  {
   "cell_type": "markdown",
   "metadata": {},
   "source": [
    "## Quebrando Cifra por Transposição"
   ]
  },
  {
   "cell_type": "code",
   "execution_count": 91,
   "metadata": {},
   "outputs": [
    {
     "data": {
      "text/plain": [
       "'uD asocais sosãi infinsta :uo inrveos  e atespueid zmhuna a.aM s,mee raloçãa uo inrveosa, ni daãnto ne hoecertazb aostlu.aeqw'"
      ]
     },
     "execution_count": 91,
     "metadata": {},
     "output_type": "execute_result"
    }
   ],
   "source": [
    "def columnar_transposition_cipher(plain_text: str, key: str):\n",
    "    columns = [[] for _ in range(5)]\n",
    "\n",
    "    key_order = key\n",
    "    for c, i in zip(list(sorted(key)), range(len(key))):\n",
    "        key_order = key_order.replace(c, str(i + 1))\n",
    "\n",
    "    padding = (5 - len(plain_text) % 5) % 5\n",
    "    plain_text += \"qwerty\"[:padding]\n",
    "\n",
    "    for i in range(len(plain_text)):\n",
    "        columns[i % 5].append(plain_text[i])\n",
    "\n",
    "    shuffled_columns = []\n",
    "    for n in list(map(int, key_order)):\n",
    "        shuffled_columns.append(columns[n - 1])\n",
    "\n",
    "    shuffled_letters = []\n",
    "    for i in range(len(plain_text)):\n",
    "        shuffled_letters.append(shuffled_columns[i % 5][i // 5])\n",
    "\n",
    "    cipher_text = \"\".join(shuffled_letters)\n",
    "    return cipher_text\n",
    "\n",
    "\n",
    "columnar_transposition_cipher(plain_text_example, \"cargo\")"
   ]
  },
  {
   "cell_type": "code",
   "execution_count": 92,
   "metadata": {},
   "outputs": [
    {
     "data": {
      "text/plain": [
       "'Duas coisas são infinitas: o universo e a estupidez humana. Mas, em relação ao universo, ainda não tenho certeza absoluta.qwe'"
      ]
     },
     "execution_count": 92,
     "metadata": {},
     "output_type": "execute_result"
    }
   ],
   "source": [
    "def columnar_transposition_decipher(cipher_text: str, key: str):\n",
    "    columns = [[] for _ in range(5)]\n",
    "\n",
    "    key_order = key\n",
    "    for c, i in zip(list(sorted(key)), range(len(key))):\n",
    "        key_order = key_order.replace(c, str(i + 1))\n",
    "\n",
    "    for i in range(len(cipher_text)):\n",
    "        columns[i % 5].append(cipher_text[i])\n",
    "\n",
    "    unshuffled_columns = []\n",
    "    for i in range(1,6):\n",
    "        unshuffled_columns.append(columns[key_order.index(str(i))])\n",
    "\n",
    "    unshuffled_letters = []\n",
    "    for i in range(len(cipher_text)):\n",
    "        unshuffled_letters.append(unshuffled_columns[i % 5][i // 5])\n",
    "\n",
    "    cipher_text = \"\".join(unshuffled_letters)\n",
    "    return cipher_text\n",
    "\n",
    "cipher_text_example2 = \"uD asocais sosãi infinsta :uo inrveos  e atespueid zmhuna a.aM s,mee raloçãa uo inrveosa, ni daãnto ne hoecertazb aostlu.aeqw\"\n",
    "columnar_transposition_decipher(cipher_text_example2, \"cargo\")"
   ]
  },
  {
   "cell_type": "markdown",
   "metadata": {},
   "source": [
    "### Quebra por força bruta"
   ]
  },
  {
   "cell_type": "markdown",
   "metadata": {},
   "source": [
    "Como eu só tenho 5 colunas que são organizadas conforme a ordem das letras da palavra, temos 5! possibilidades de embaralhamento que podem ser geradas por diversas combinações de palavras.\n",
    "Por exemplo, usamos \"cargo\" para codificar a mensagem anterior, o que no algoritmo atribui os valores \"21534\"\n",
    "o qual também pode ser obtido pela chave \"baecd\". Logo, só é necessário achar uma permutação de \"abcde\" que gere a sequência de ordenação correta para encontrarmos uma chave de decriptação válida."
   ]
  },
  {
   "cell_type": "code",
   "execution_count": 93,
   "metadata": {},
   "outputs": [
    {
     "data": {
      "text/plain": [
       "'Duas coisas são infinitas: o universo e a estupidez humana. Mas, em relação ao universo, ainda não tenho certeza absoluta.qwe'"
      ]
     },
     "execution_count": 93,
     "metadata": {},
     "output_type": "execute_result"
    }
   ],
   "source": [
    "import string\n",
    "\n",
    "def break_columnar_transposition_cipher_v1(cipher_text: str):\n",
    "    key_combinations = [\"\".join(p) for p in itertools.permutations(\"abcde\")]\n",
    "    for key in key_combinations:\n",
    "        plain_text = columnar_transposition_decipher(cipher_text, key)\n",
    "        if not_gibberish(plain_text):\n",
    "            return key\n",
    "    return None\n",
    "\n",
    "\n",
    "key = break_columnar_transposition_cipher_v1(cipher_text_example2)\n",
    "columnar_transposition_decipher(cipher_text_example2, key)"
   ]
  },
  {
   "cell_type": "markdown",
   "metadata": {},
   "source": [
    "### Quebra por distribuição frequência"
   ]
  },
  {
   "cell_type": "code",
   "execution_count": 94,
   "metadata": {},
   "outputs": [],
   "source": [
    "def break_columnar_transposition_cipher_v2(cipher_text: str):\n",
    "    return"
   ]
  }
 ],
 "metadata": {
  "kernelspec": {
   "display_name": "Python 3",
   "language": "python",
   "name": "python3"
  },
  "language_info": {
   "codemirror_mode": {
    "name": "ipython",
    "version": 3
   },
   "file_extension": ".py",
   "mimetype": "text/x-python",
   "name": "python",
   "nbconvert_exporter": "python",
   "pygments_lexer": "ipython3",
   "version": "3.13.0"
  }
 },
 "nbformat": 4,
 "nbformat_minor": 2
}
